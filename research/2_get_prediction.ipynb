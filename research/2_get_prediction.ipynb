{
 "cells": [
  {
   "cell_type": "code",
   "execution_count": 35,
   "metadata": {},
   "outputs": [],
   "source": [
    "import pandas as pd\n",
    "import numpy as np\n",
    "import requests\n",
    "import json\n",
    "from os import walk\n",
    "from PIL import Image\n",
    "from io import BytesIO\n",
    "import os"
   ]
  },
  {
   "cell_type": "code",
   "execution_count": 2,
   "metadata": {},
   "outputs": [
    {
     "name": "stderr",
     "output_type": "stream",
     "text": [
      "C:\\Users\\PC\\AppData\\Local\\Temp\\ipykernel_16680\\785670083.py:1: DtypeWarning: Columns (5,16) have mixed types. Specify dtype option on import or set low_memory=False.\n",
      "  df = pd.read_csv('../data/data.csv')\n"
     ]
    }
   ],
   "source": [
    "df = pd.read_csv('../data/data.csv')"
   ]
  },
  {
   "cell_type": "code",
   "execution_count": 3,
   "metadata": {},
   "outputs": [
    {
     "data": {
      "text/plain": [
       "0"
      ]
     },
     "execution_count": 3,
     "metadata": {},
     "output_type": "execute_result"
    }
   ],
   "source": [
    "df.index[0]"
   ]
  },
  {
   "cell_type": "code",
   "execution_count": 4,
   "metadata": {},
   "outputs": [
    {
     "data": {
      "text/plain": [
       "Index(['image', 'Nameboard Image', 'Outlet Image', 'Remarks2', 'Date2',\n",
       "       'DistributorCode', 'DistributorName', 'SalesRep', 'repcode',\n",
       "       'OutletCode', 'OutletName', 'routename', 'RepName', 'RepId',\n",
       "       'Longitude', 'Latitude', 'IsGPSOn', 'finnaly accepted or not'],\n",
       "      dtype='object')"
      ]
     },
     "execution_count": 4,
     "metadata": {},
     "output_type": "execute_result"
    }
   ],
   "source": [
    "df.columns"
   ]
  },
  {
   "cell_type": "code",
   "execution_count": 5,
   "metadata": {},
   "outputs": [],
   "source": [
    "image_dir = '../data/images'"
   ]
  },
  {
   "cell_type": "code",
   "execution_count": 6,
   "metadata": {},
   "outputs": [
    {
     "data": {
      "text/plain": [
       "100"
      ]
     },
     "execution_count": 6,
     "metadata": {},
     "output_type": "execute_result"
    }
   ],
   "source": [
    "img_dir_lis = list()\n",
    "for dirpath, dirname, filename in walk(image_dir):\n",
    "    img_dir_lis.extend(filename)\n",
    "\n",
    "len(img_dir_lis)"
   ]
  },
  {
   "cell_type": "code",
   "execution_count": 7,
   "metadata": {},
   "outputs": [
    {
     "data": {
      "text/plain": [
       "(0,\n",
       " 'https://surge.keells.lk/Myfiles/RetailerImages/1c62479b-12b9-4fac-a9bf-12f6f80f9269.jpg')"
      ]
     },
     "execution_count": 7,
     "metadata": {},
     "output_type": "execute_result"
    }
   ],
   "source": [
    "\"\"\"get row and index\"\"\"\n",
    "\n",
    "df.index[0], df.loc[df.index[0], 'image']"
   ]
  },
  {
   "cell_type": "code",
   "execution_count": 8,
   "metadata": {},
   "outputs": [
    {
     "data": {
      "text/html": [
       "<div>\n",
       "<style scoped>\n",
       "    .dataframe tbody tr th:only-of-type {\n",
       "        vertical-align: middle;\n",
       "    }\n",
       "\n",
       "    .dataframe tbody tr th {\n",
       "        vertical-align: top;\n",
       "    }\n",
       "\n",
       "    .dataframe thead th {\n",
       "        text-align: right;\n",
       "    }\n",
       "</style>\n",
       "<table border=\"1\" class=\"dataframe\">\n",
       "  <thead>\n",
       "    <tr style=\"text-align: right;\">\n",
       "      <th></th>\n",
       "      <th>image</th>\n",
       "      <th>Nameboard Image</th>\n",
       "      <th>Outlet Image</th>\n",
       "      <th>Remarks2</th>\n",
       "      <th>Date2</th>\n",
       "      <th>DistributorCode</th>\n",
       "      <th>DistributorName</th>\n",
       "      <th>SalesRep</th>\n",
       "      <th>repcode</th>\n",
       "      <th>OutletCode</th>\n",
       "      <th>OutletName</th>\n",
       "      <th>routename</th>\n",
       "      <th>RepName</th>\n",
       "      <th>RepId</th>\n",
       "      <th>Longitude</th>\n",
       "      <th>Latitude</th>\n",
       "      <th>IsGPSOn</th>\n",
       "      <th>finnaly accepted or not</th>\n",
       "    </tr>\n",
       "  </thead>\n",
       "  <tbody>\n",
       "    <tr>\n",
       "      <th>0</th>\n",
       "      <td>https://surgepilot.lk/1c62479b-12b9-4fac-a9bf-...</td>\n",
       "      <td>Available: Image Fully Captured</td>\n",
       "      <td>outlet image partially acceptable</td>\n",
       "      <td>NaN</td>\n",
       "      <td>8/2/2024</td>\n",
       "      <td>0000052005</td>\n",
       "      <td>Geethika Distributors</td>\n",
       "      <td>Pettah Halal GT S Thileeban (G) - 141497</td>\n",
       "      <td>52005KFPREP06</td>\n",
       "      <td>KF041483</td>\n",
       "      <td>Benadic Stores</td>\n",
       "      <td>Jem.Street</td>\n",
       "      <td>Pettah Halal GT S Thileeban (G) - 141497</td>\n",
       "      <td>52005KFPCSR06</td>\n",
       "      <td>79.85769</td>\n",
       "      <td>6.94318</td>\n",
       "      <td>TRUE</td>\n",
       "      <td>Accept</td>\n",
       "    </tr>\n",
       "    <tr>\n",
       "      <th>1</th>\n",
       "      <td>https://surgepilot.lk/abf6fc21-6a21-4d48-91cc-...</td>\n",
       "      <td>Available: Image Fully Captured</td>\n",
       "      <td>outlet image partially acceptable</td>\n",
       "      <td>NaN</td>\n",
       "      <td>8/2/2024</td>\n",
       "      <td>0000011660</td>\n",
       "      <td>Ananda Distributors</td>\n",
       "      <td>U.G.S.Kosala Ranasinghe - Horana</td>\n",
       "      <td>R431</td>\n",
       "      <td>IC127389</td>\n",
       "      <td>Greenazy Hotel</td>\n",
       "      <td>Wataraka,Meegoda,Dampe</td>\n",
       "      <td>U.G.S.Kosala Ranasinghe 11660</td>\n",
       "      <td>DSR000991</td>\n",
       "      <td>80.04332</td>\n",
       "      <td>6.82500</td>\n",
       "      <td>TRUE</td>\n",
       "      <td>Accept</td>\n",
       "    </tr>\n",
       "    <tr>\n",
       "      <th>2</th>\n",
       "      <td>https://surgepilot.lk/935c6299-29b9-42c9-80b8-...</td>\n",
       "      <td>Available: Image Fully Captured</td>\n",
       "      <td>outlet image partially acceptable</td>\n",
       "      <td>NaN</td>\n",
       "      <td>8/2/2024</td>\n",
       "      <td>0000066858</td>\n",
       "      <td>Rajatha Distributors (Pvt) Ltd</td>\n",
       "      <td>M.Lasantha Harshapriya - Baththaramulla (RD)</td>\n",
       "      <td>REP0795</td>\n",
       "      <td>SD323031</td>\n",
       "      <td>Ranji &amp; Deepika stores</td>\n",
       "      <td>Kirulapane 01</td>\n",
       "      <td>M.Lasantha Harshapriya 66858</td>\n",
       "      <td>DSR0001360</td>\n",
       "      <td>79.87400</td>\n",
       "      <td>6.87875</td>\n",
       "      <td>TRUE</td>\n",
       "      <td>Accept</td>\n",
       "    </tr>\n",
       "    <tr>\n",
       "      <th>3</th>\n",
       "      <td>https://surgepilot.lk/c289bcc1-7f83-4dee-a4ff-...</td>\n",
       "      <td>Available:Image Partially Captured</td>\n",
       "      <td>outlet image partially acceptable</td>\n",
       "      <td>NaN</td>\n",
       "      <td>8/2/2024</td>\n",
       "      <td>0000058673</td>\n",
       "      <td>Chamith Enterprises\\t</td>\n",
       "      <td>U G Nissanka - Katana</td>\n",
       "      <td>58673SDDSR05</td>\n",
       "      <td>SD348814</td>\n",
       "      <td>SACHITH MINI MART</td>\n",
       "      <td>DSR 2 - 58673 - Route 14</td>\n",
       "      <td>U G Nissanka 58673</td>\n",
       "      <td>DSR001767</td>\n",
       "      <td>79.90961</td>\n",
       "      <td>7.20397</td>\n",
       "      <td>TRUE</td>\n",
       "      <td>Accept</td>\n",
       "    </tr>\n",
       "    <tr>\n",
       "      <th>4</th>\n",
       "      <td>https://surgepilot.lk/dd0b2b74-52b5-4a3f-ade2-...</td>\n",
       "      <td>Not Available</td>\n",
       "      <td>outlet image partially acceptable</td>\n",
       "      <td>NaN</td>\n",
       "      <td>8/2/2024</td>\n",
       "      <td>0000011736</td>\n",
       "      <td>Yasantha Distributors</td>\n",
       "      <td>LALINDA BANDUSEKARA - Polgasowita (YD)</td>\n",
       "      <td>REP0279</td>\n",
       "      <td>SD289295</td>\n",
       "      <td>Rukmal stores</td>\n",
       "      <td>Pamunuwa &amp; Temple rd</td>\n",
       "      <td>LALINDA BANDUSEKARA 11736</td>\n",
       "      <td>DSR000474</td>\n",
       "      <td>79.93596</td>\n",
       "      <td>6.85309</td>\n",
       "      <td>TRUE</td>\n",
       "      <td>Accept</td>\n",
       "    </tr>\n",
       "  </tbody>\n",
       "</table>\n",
       "</div>"
      ],
      "text/plain": [
       "                                               image  \\\n",
       "0  https://surgepilot.lk/1c62479b-12b9-4fac-a9bf-...   \n",
       "1  https://surgepilot.lk/abf6fc21-6a21-4d48-91cc-...   \n",
       "2  https://surgepilot.lk/935c6299-29b9-42c9-80b8-...   \n",
       "3  https://surgepilot.lk/c289bcc1-7f83-4dee-a4ff-...   \n",
       "4  https://surgepilot.lk/dd0b2b74-52b5-4a3f-ade2-...   \n",
       "\n",
       "                      Nameboard Image                       Outlet Image  \\\n",
       "0     Available: Image Fully Captured  outlet image partially acceptable   \n",
       "1     Available: Image Fully Captured  outlet image partially acceptable   \n",
       "2     Available: Image Fully Captured  outlet image partially acceptable   \n",
       "3  Available:Image Partially Captured  outlet image partially acceptable   \n",
       "4                       Not Available  outlet image partially acceptable   \n",
       "\n",
       "  Remarks2     Date2 DistributorCode                 DistributorName  \\\n",
       "0      NaN  8/2/2024      0000052005           Geethika Distributors   \n",
       "1      NaN  8/2/2024      0000011660             Ananda Distributors   \n",
       "2      NaN  8/2/2024      0000066858  Rajatha Distributors (Pvt) Ltd   \n",
       "3      NaN  8/2/2024      0000058673           Chamith Enterprises\\t   \n",
       "4      NaN  8/2/2024      0000011736           Yasantha Distributors   \n",
       "\n",
       "                                       SalesRep        repcode OutletCode  \\\n",
       "0      Pettah Halal GT S Thileeban (G) - 141497  52005KFPREP06   KF041483   \n",
       "1              U.G.S.Kosala Ranasinghe - Horana           R431   IC127389   \n",
       "2  M.Lasantha Harshapriya - Baththaramulla (RD)        REP0795   SD323031   \n",
       "3                         U G Nissanka - Katana   58673SDDSR05   SD348814   \n",
       "4        LALINDA BANDUSEKARA - Polgasowita (YD)        REP0279   SD289295   \n",
       "\n",
       "                OutletName                 routename  \\\n",
       "0           Benadic Stores                Jem.Street   \n",
       "1           Greenazy Hotel    Wataraka,Meegoda,Dampe   \n",
       "2  Ranji & Deepika stores              Kirulapane 01   \n",
       "3        SACHITH MINI MART  DSR 2 - 58673 - Route 14   \n",
       "4            Rukmal stores      Pamunuwa & Temple rd   \n",
       "\n",
       "                                    RepName          RepId  Longitude  \\\n",
       "0  Pettah Halal GT S Thileeban (G) - 141497  52005KFPCSR06   79.85769   \n",
       "1             U.G.S.Kosala Ranasinghe 11660      DSR000991   80.04332   \n",
       "2              M.Lasantha Harshapriya 66858     DSR0001360   79.87400   \n",
       "3                        U G Nissanka 58673      DSR001767   79.90961   \n",
       "4                 LALINDA BANDUSEKARA 11736      DSR000474   79.93596   \n",
       "\n",
       "   Latitude IsGPSOn finnaly accepted or not  \n",
       "0   6.94318    TRUE                  Accept  \n",
       "1   6.82500    TRUE                  Accept  \n",
       "2   6.87875    TRUE                  Accept  \n",
       "3   7.20397    TRUE                  Accept  \n",
       "4   6.85309    TRUE                  Accept  "
      ]
     },
     "execution_count": 8,
     "metadata": {},
     "output_type": "execute_result"
    }
   ],
   "source": [
    "df['image'] = df['image'].apply(lambda x: 'https://surgepilot.lk/' + x.split('/')[-1])\n",
    "df.head()\n"
   ]
  },
  {
   "cell_type": "code",
   "execution_count": 9,
   "metadata": {},
   "outputs": [
    {
     "data": {
      "text/plain": [
       "'https://surgepilot.lk/1c62479b-12b9-4fac-a9bf-12f6f80f9269.jpg'"
      ]
     },
     "execution_count": 9,
     "metadata": {},
     "output_type": "execute_result"
    }
   ],
   "source": [
    "df['image'].to_list()[0]"
   ]
  },
  {
   "cell_type": "code",
   "execution_count": 37,
   "metadata": {},
   "outputs": [],
   "source": [
    "def update_json(json_dir, ind, pred):\n",
    "    \"\"\"\n",
    "    Updates a JSON file with the given index and prediction.\n",
    "\n",
    "    Parameters:\n",
    "    - json_dir (str): Path to the JSON file.\n",
    "    - ind (int): Index value to be updated.\n",
    "    - pred (str or dict or list): Prediction value to be updated.\n",
    "\n",
    "    The function ensures:\n",
    "    - JSON validity before writing.\n",
    "    - Proper file handling with exceptions.\n",
    "    \"\"\"\n",
    "    try:\n",
    "        # Create directory if it doesn't exist\n",
    "        os.makedirs(os.path.dirname(json_dir), exist_ok=True)\n",
    "\n",
    "        # Data to be written\n",
    "        data = {\"index\": ind, \"prediction\": pred}\n",
    "\n",
    "        # Writing data to JSON file\n",
    "        with open(json_dir, \"w\", encoding=\"utf-8\") as f:\n",
    "            json.dump(data, f, indent=2, ensure_ascii=False)\n",
    "\n",
    "        print(f\"Successfully updated {json_dir}\")\n",
    "\n",
    "    except OSError as e:\n",
    "        print(f\"Error handling file {json_dir}: {e}\")\n",
    "    except TypeError as e:\n",
    "        print(f\"Invalid data type for JSON: {e}\")\n",
    "    except Exception as e:\n",
    "        print(f\"Unexpected error: {e}\")"
   ]
  },
  {
   "cell_type": "code",
   "execution_count": null,
   "metadata": {},
   "outputs": [],
   "source": [
    "def load_json(json_dir):\n",
    "    \"\"\"\n",
    "    Loads a JSON file and returns its contents.\n",
    "\n",
    "    Parameters:\n",
    "    - json_dir (str): Path to the JSON file.\n",
    "\n",
    "    Returns:\n",
    "    - dict: Parsed JSON data if successful.\n",
    "    - None: If an error occurs.\n",
    "\n",
    "    Exception Handling:\n",
    "    - Handles file not found, JSON decoding errors, and permission issues.\n",
    "    \"\"\"\n",
    "    try:\n",
    "        with open(json_dir, \"r\", encoding=\"utf-8\") as f:\n",
    "            return json.load(f)\n",
    "    except FileNotFoundError:\n",
    "        print(f\"Error: File not found - {json_dir}\")\n",
    "    except json.JSONDecodeError:\n",
    "        print(f\"Error: Invalid JSON format in {json_dir}\")\n",
    "    except PermissionError:\n",
    "        print(f\"Error: Permission denied for {json_dir}\")\n",
    "    except Exception as e:\n",
    "        print(f\"Unexpected error while loading {json_dir}: {e}\")\n",
    "\n",
    "    return None  # Return None if an error occurs"
   ]
  },
  {
   "cell_type": "code",
   "execution_count": 22,
   "metadata": {},
   "outputs": [],
   "source": [
    "json_dir = '../data/pred.json'"
   ]
  },
  {
   "cell_type": "code",
   "execution_count": 26,
   "metadata": {},
   "outputs": [
    {
     "name": "stdout",
     "output_type": "stream",
     "text": [
      "[0, 1]\n",
      "['a', 'b']\n"
     ]
    }
   ],
   "source": [
    "json_data = load_json(json_dir)\n",
    "print(json_data['index'])\n",
    "print(json_data['prediction'])"
   ]
  },
  {
   "cell_type": "code",
   "execution_count": 36,
   "metadata": {},
   "outputs": [],
   "source": [
    "def download_images(save_dir, dir_lis, img_lis):\n",
    "    \"\"\"\n",
    "    Downloads images from a list of URLs and saves them to the specified directory.\n",
    "\n",
    "    Parameters:\n",
    "    - save_dir (str): Directory where images will be saved.\n",
    "    - dir_lis (list): List of existing image filenames in the directory.\n",
    "    - img_lis (list): List of image URLs to be downloaded.\n",
    "\n",
    "    Exceptions are handled for:\n",
    "    - Connection errors\n",
    "    - HTTP errors (e.g., 404, 403)\n",
    "    - Invalid image format\n",
    "    - Issues with saving the file\n",
    "    \"\"\"\n",
    "    if not os.path.exists(save_dir):\n",
    "        os.makedirs(save_dir)\n",
    "\n",
    "    for i, img_url in enumerate(img_lis):\n",
    "        try:\n",
    "            img_name = img_url.split(\"/\")[-1]\n",
    "\n",
    "            if img_name in dir_lis:\n",
    "                print(f\"Skipping {img_name}, already exists.\")\n",
    "                continue\n",
    "\n",
    "            response = requests.get(img_url, timeout=10)\n",
    "            response.raise_for_status()  # Raises HTTPError for bad responses (4xx, 5xx)\n",
    "\n",
    "            try:\n",
    "                img = Image.open(BytesIO(response.content))\n",
    "                img.save(os.path.join(save_dir, img_name))\n",
    "                print(f\"Successfully downloaded: {img_name}\")\n",
    "            except (OSError, IOError) as e:\n",
    "                print(f\"Error saving image {img_name}: {e}\")\n",
    "\n",
    "        except requests.exceptions.MissingSchema:\n",
    "            print(f\"Invalid URL: {img_url}\")\n",
    "        except requests.exceptions.ConnectionError:\n",
    "            print(f\"Failed to connect: {img_url}\")\n",
    "        except requests.exceptions.Timeout:\n",
    "            print(f\"Timeout error: {img_url}\")\n",
    "        except requests.exceptions.HTTPError as e:\n",
    "            print(f\"HTTP error for {img_url}: {e}\")\n",
    "        except Exception as e:\n",
    "            print(f\"Unexpected error for {img_url}: {e}\")"
   ]
  },
  {
   "cell_type": "code",
   "execution_count": 39,
   "metadata": {},
   "outputs": [],
   "source": [
    "def dir_image_lis(path):\n",
    "    \"\"\"\n",
    "    Retrieves a list of image filenames in a directory.\n",
    "\n",
    "    Parameters:\n",
    "    - path (str): Path to the directory.\n",
    "\n",
    "    Returns:\n",
    "    - list: List of image filenames in the directory.\n",
    "\n",
    "    Exception Handling:\n",
    "    - Handles cases where the directory does not exist.\n",
    "    - Ensures only valid image files are returned.\n",
    "    \"\"\"\n",
    "    try:\n",
    "        if not os.path.exists(path):\n",
    "            print(f\"Error: Directory not found - {path}\")\n",
    "            return []\n",
    "\n",
    "        img_lis = []\n",
    "        valid_extensions = {\".jpg\", \".jpeg\", \".png\", \".gif\", \".bmp\", \".tiff\", \".webp\"}\n",
    "\n",
    "        for root, _, files in os.walk(path):\n",
    "            img_lis.extend(\n",
    "                [\n",
    "                    file\n",
    "                    for file in files\n",
    "                    if os.path.splitext(file)[1].lower() in valid_extensions\n",
    "                ]\n",
    "            )\n",
    "\n",
    "        return img_lis\n",
    "\n",
    "    except Exception as e:\n",
    "        print(f\"Unexpected error while reading directory {path}: {e}\")\n",
    "        return []"
   ]
  },
  {
   "cell_type": "code",
   "execution_count": 31,
   "metadata": {},
   "outputs": [],
   "source": [
    "save_dir = '../data/images'"
   ]
  },
  {
   "cell_type": "code",
   "execution_count": 63,
   "metadata": {},
   "outputs": [],
   "source": [
    "def get_prediction(api, image):\n",
    "    \"\"\"\n",
    "    Sends an image to the API for prediction.\n",
    "\n",
    "    Parameters:\n",
    "    - api (str): API endpoint URL.\n",
    "    - image (str): Path to the image file.\n",
    "\n",
    "    Returns:\n",
    "    - str or dict: Prediction result from the API.\n",
    "\n",
    "    Exception Handling:\n",
    "    - Handles missing files, API request failures, and unexpected errors.\n",
    "    \"\"\"\n",
    "    try:\n",
    "        with open(image, \"rb\") as img_file:  # Ensures file is properly closed after use\n",
    "            response = requests.post(api, files={\"file\": img_file}, timeout=50)\n",
    "            response.raise_for_status()  # Raise HTTPError for bad responses (4xx, 5xx)\n",
    "\n",
    "        return response.json().get(\"prediction\", \"No prediction key in response\")\n",
    "\n",
    "    except FileNotFoundError:\n",
    "        print(f\"Error: Image file not found - {image}\")\n",
    "    except requests.exceptions.RequestException as e:\n",
    "        print(f\"API request error: {e}\")\n",
    "    except requests.exceptions.JSONDecodeError:\n",
    "        print(\"Error: Unable to parse JSON response from API.\")\n",
    "    except Exception as e:\n",
    "        print(f\"Unexpected error: {e}\")\n",
    "\n",
    "    return None  # Return None if an error occurs"
   ]
  },
  {
   "cell_type": "code",
   "execution_count": null,
   "metadata": {},
   "outputs": [],
   "source": [
    "def get_pred(next_ind, api_url, save_dir, json_dir):\n",
    "\n",
    "    img_dir_lis = dir_image_lis(save_dir)\n",
    "    json_data = load_json(json_data)\n",
    "\n",
    "    ind_lis = json_data['index']\n",
    "    pred_lis = json_data['prediction']\n",
    "    last_ind = ind_lis[-1]\n",
    "    \n",
    "    if next_ind > last_ind:\n",
    "        # Download images and predict for each image in the data frame\n",
    "        for i in range(last_ind + 1, next_ind):\n",
    "\n",
    "            image_link = df.loc[i, \"image\"]\n",
    "            img_name = image_link.split(\"/\")[-1]\n",
    "\n",
    "            # Check if image is already downloaded\n",
    "            download_images(save_dir, img_dir_lis, [df.loc[i, 'image']])\n",
    "\n",
    "            # Predict the label for the downloaded image\n",
    "            pred = get_prediction(api_url, f\"{save_dir}/{img_name}\")\n",
    "\n",
    "            # Add the prediction to the lists\n",
    "            ind_lis.append(i)\n",
    "            pred_lis.append(pred)\n",
    "\n",
    "            # Update the json file with the latest prediction\n",
    "        update_json(json_dir, ind_lis, pred_lis)\n",
    "            \n",
    "    else:\n",
    "        print(\"The next index is less than the last index in the json.\")"
   ]
  },
  {
   "cell_type": "code",
   "execution_count": null,
   "metadata": {},
   "outputs": [],
   "source": [
    "def process_df(\n",
    "    next_ind,\n",
    "    save_dir,\n",
    "    json_dir,\n",
    "    df,\n",
    "    api_url\n",
    "):\n",
    "    \"\"\"\n",
    "    Fetches predictions for new images and updates the JSON file.\n",
    "\n",
    "    Parameters:\n",
    "    - next_ind (int): The next index to process.\n",
    "    - api_url (str): API endpoint for image prediction.\n",
    "    - save_dir (str): Directory where images are stored.\n",
    "    - json_dir (str): Path to the JSON file storing predictions.\n",
    "    - df (pd.DataFrame): DataFrame containing image URLs.\n",
    "\n",
    "    Returns:\n",
    "    - None: Updates the JSON file with new predictions.\n",
    "\n",
    "    Exception Handling:\n",
    "    - Ensures JSON file is valid.\n",
    "    - Handles missing images and API errors.\n",
    "    - Logs unexpected errors.\n",
    "    \"\"\"\n",
    "\n",
    "    try:\n",
    "        # Load existing image list and JSON data\n",
    "        img_dir_lis = dir_image_lis(save_dir)\n",
    "        json_data = load_json(json_dir)\n",
    "\n",
    "        if not json_data:\n",
    "            json_data = {'index': [], 'prediction': []}  # Initialize an empty structure\n",
    "            print(f\"JSON file {json_dir} was missing or empty. Creating a new one.\")\n",
    "\n",
    "        ind_lis = json_data.get(\"index\", [])\n",
    "        pred_lis = json_data.get(\"prediction\", [])\n",
    "\n",
    "        if not ind_lis:\n",
    "            last_ind = -1  # If the JSON is empty, start from scratch\n",
    "        else:\n",
    "            last_ind = max(ind_lis)\n",
    "\n",
    "        if next_ind > last_ind:\n",
    "            for i in range(last_ind + 1, next_ind):\n",
    "                try:\n",
    "                    if i >= len(df):\n",
    "                        print(f\"Warning: Index {i} is out of DataFrame range.\")\n",
    "                        continue\n",
    "\n",
    "                    image_link = df.loc[i, \"image\"]\n",
    "                    img_name = os.path.basename(image_link)\n",
    "\n",
    "                    # Check if image is already downloaded\n",
    "                    if img_name not in img_dir_lis:\n",
    "                        download_images(save_dir, img_dir_lis, [image_link])\n",
    "\n",
    "                    # Predict the label for the downloaded image\n",
    "                    img_path = os.path.join(save_dir, img_name)\n",
    "                    pred = get_prediction(api_url, img_path)\n",
    "                    # pred = \"my pred\"\n",
    "\n",
    "                    # Append new data\n",
    "                    ind_lis.append(i)\n",
    "                    pred_lis.append(pred)\n",
    "\n",
    "                except Exception as e:\n",
    "                    print(f\"Error processing index {i}: {e}\")\n",
    "\n",
    "            # Update the JSON file with the latest predictions\n",
    "            update_json(json_dir, ind_lis, pred_lis)\n",
    "\n",
    "        else:\n",
    "            print(\"The next index is less than or equal to the last index in the JSON.\")\n",
    "\n",
    "    except Exception as e:\n",
    "        print(f\"Unexpected error in get_pred: {e}\")"
   ]
  },
  {
   "cell_type": "code",
   "execution_count": 60,
   "metadata": {},
   "outputs": [],
   "source": [
    "api_url = \"http://95.217.57.146:5010/upload\""
   ]
  },
  {
   "cell_type": "code",
   "execution_count": null,
   "metadata": {},
   "outputs": [
    {
     "name": "stdout",
     "output_type": "stream",
     "text": [
      "Error: Invalid JSON format in ../data/pred.json\n",
      "JSON file ../data/pred.json was missing or empty. Creating a new one.\n",
      "Successfully updated ../data/pred.json\n"
     ]
    }
   ],
   "source": [
    "process_df(\n",
    "    0,\n",
    "    save_dir,\n",
    "    json_dir,\n",
    "    df,\n",
    "    api_url\n",
    ")"
   ]
  },
  {
   "cell_type": "code",
   "execution_count": 64,
   "metadata": {},
   "outputs": [
    {
     "name": "stdout",
     "output_type": "stream",
     "text": [
      "API request error: HTTPConnectionPool(host='95.217.57.146', port=5010): Read timed out. (read timeout=50)\n"
     ]
    }
   ],
   "source": [
    "img = '../data/images/01fbc0d1-c4f8-4bb7-a4f8-fb3c3585dd22.jpg'\n",
    "get_prediction(api_url, img)"
   ]
  },
  {
   "cell_type": "code",
   "execution_count": null,
   "metadata": {},
   "outputs": [],
   "source": []
  }
 ],
 "metadata": {
  "kernelspec": {
   "display_name": ".venv",
   "language": "python",
   "name": "python3"
  },
  "language_info": {
   "codemirror_mode": {
    "name": "ipython",
    "version": 3
   },
   "file_extension": ".py",
   "mimetype": "text/x-python",
   "name": "python",
   "nbconvert_exporter": "python",
   "pygments_lexer": "ipython3",
   "version": "3.11.5"
  }
 },
 "nbformat": 4,
 "nbformat_minor": 2
}
