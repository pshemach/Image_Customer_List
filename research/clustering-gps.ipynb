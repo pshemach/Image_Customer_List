{
 "cells": [
  {
   "cell_type": "code",
   "execution_count": 1,
   "metadata": {},
   "outputs": [],
   "source": [
    "import pandas as pd\n",
    "import numpy as np\n",
    "import matplotlib.pyplot as plt\n",
    "import folium\n",
    "from sklearn.cluster import DBSCAN\n",
    "\n",
    "%matplotlib inline"
   ]
  },
  {
   "cell_type": "code",
   "execution_count": 3,
   "metadata": {},
   "outputs": [
    {
     "data": {
      "text/html": [
       "<div>\n",
       "<style scoped>\n",
       "    .dataframe tbody tr th:only-of-type {\n",
       "        vertical-align: middle;\n",
       "    }\n",
       "\n",
       "    .dataframe tbody tr th {\n",
       "        vertical-align: top;\n",
       "    }\n",
       "\n",
       "    .dataframe thead th {\n",
       "        text-align: right;\n",
       "    }\n",
       "</style>\n",
       "<table border=\"1\" class=\"dataframe\">\n",
       "  <thead>\n",
       "    <tr style=\"text-align: right;\">\n",
       "      <th></th>\n",
       "      <th>Date</th>\n",
       "      <th>DistributorCode</th>\n",
       "      <th>DistributorName</th>\n",
       "      <th>OutletCode</th>\n",
       "      <th>OutletName</th>\n",
       "      <th>routename</th>\n",
       "      <th>Longitude</th>\n",
       "      <th>Latitude</th>\n",
       "      <th>IsGPSOn</th>\n",
       "    </tr>\n",
       "  </thead>\n",
       "  <tbody>\n",
       "    <tr>\n",
       "      <th>0</th>\n",
       "      <td>2024-09-26</td>\n",
       "      <td>57604</td>\n",
       "      <td>Sanjeeva Trading-Wattala</td>\n",
       "      <td>SD103807</td>\n",
       "      <td>Udaya St0res</td>\n",
       "      <td>DSR 2 57604 Route 4</td>\n",
       "      <td>79.86539</td>\n",
       "      <td>7.01005</td>\n",
       "      <td>1</td>\n",
       "    </tr>\n",
       "    <tr>\n",
       "      <th>1</th>\n",
       "      <td>2024-09-19</td>\n",
       "      <td>57604</td>\n",
       "      <td>Sanjeeva Trading-Wattala</td>\n",
       "      <td>SD103896</td>\n",
       "      <td>Rohitha stors</td>\n",
       "      <td>DSR 1 57604 Route 23</td>\n",
       "      <td>79.89751</td>\n",
       "      <td>7.02792</td>\n",
       "      <td>1</td>\n",
       "    </tr>\n",
       "  </tbody>\n",
       "</table>\n",
       "</div>"
      ],
      "text/plain": [
       "         Date  DistributorCode  ... Latitude IsGPSOn\n",
       "0  2024-09-26            57604  ...  7.01005       1\n",
       "1  2024-09-19            57604  ...  7.02792       1\n",
       "\n",
       "[2 rows x 9 columns]"
      ]
     },
     "execution_count": 3,
     "metadata": {},
     "output_type": "execute_result"
    }
   ],
   "source": [
    "df = pd.read_csv('Image_Customer_List.csv')\n",
    "df.head(2)"
   ]
  },
  {
   "cell_type": "code",
   "execution_count": 4,
   "metadata": {},
   "outputs": [
    {
     "data": {
      "text/plain": [
       "(63254, 9)"
      ]
     },
     "execution_count": 4,
     "metadata": {},
     "output_type": "execute_result"
    }
   ],
   "source": [
    "df.shape"
   ]
  },
  {
   "cell_type": "code",
   "execution_count": 5,
   "metadata": {},
   "outputs": [],
   "source": [
    "df = df.drop_duplicates()"
   ]
  },
  {
   "cell_type": "code",
   "execution_count": 6,
   "metadata": {},
   "outputs": [
    {
     "data": {
      "text/plain": [
       "(62961, 9)"
      ]
     },
     "execution_count": 6,
     "metadata": {},
     "output_type": "execute_result"
    }
   ],
   "source": [
    "df.shape"
   ]
  },
  {
   "cell_type": "code",
   "execution_count": 7,
   "metadata": {},
   "outputs": [
    {
     "data": {
      "text/html": [
       "<div>\n",
       "<style scoped>\n",
       "    .dataframe tbody tr th:only-of-type {\n",
       "        vertical-align: middle;\n",
       "    }\n",
       "\n",
       "    .dataframe tbody tr th {\n",
       "        vertical-align: top;\n",
       "    }\n",
       "\n",
       "    .dataframe thead th {\n",
       "        text-align: right;\n",
       "    }\n",
       "</style>\n",
       "<table border=\"1\" class=\"dataframe\">\n",
       "  <thead>\n",
       "    <tr style=\"text-align: right;\">\n",
       "      <th></th>\n",
       "      <th>Date</th>\n",
       "      <th>DistributorCode</th>\n",
       "      <th>DistributorName</th>\n",
       "      <th>OutletCode</th>\n",
       "      <th>OutletName</th>\n",
       "      <th>routename</th>\n",
       "      <th>Longitude</th>\n",
       "      <th>Latitude</th>\n",
       "      <th>IsGPSOn</th>\n",
       "    </tr>\n",
       "  </thead>\n",
       "  <tbody>\n",
       "    <tr>\n",
       "      <th>1516</th>\n",
       "      <td>2024-09-20</td>\n",
       "      <td>71221</td>\n",
       "      <td>Shanthi Logistics.</td>\n",
       "      <td>SD284716</td>\n",
       "      <td>Aba Sewana Stores</td>\n",
       "      <td>Dandugama-Udammita</td>\n",
       "      <td>0.0</td>\n",
       "      <td>0.0</td>\n",
       "      <td>1</td>\n",
       "    </tr>\n",
       "    <tr>\n",
       "      <th>1940</th>\n",
       "      <td>2024-09-24</td>\n",
       "      <td>61822</td>\n",
       "      <td>Dilsha Distributors</td>\n",
       "      <td>KF022098</td>\n",
       "      <td>Malithi stores</td>\n",
       "      <td>IBULGODA</td>\n",
       "      <td>0.0</td>\n",
       "      <td>0.0</td>\n",
       "      <td>1</td>\n",
       "    </tr>\n",
       "    <tr>\n",
       "      <th>1941</th>\n",
       "      <td>2024-09-25</td>\n",
       "      <td>61822</td>\n",
       "      <td>Dilsha Distributors</td>\n",
       "      <td>KF045505</td>\n",
       "      <td>Dineththri Stores</td>\n",
       "      <td>Kirillawala GT</td>\n",
       "      <td>0.0</td>\n",
       "      <td>0.0</td>\n",
       "      <td>1</td>\n",
       "    </tr>\n",
       "    <tr>\n",
       "      <th>1942</th>\n",
       "      <td>2024-09-25</td>\n",
       "      <td>61822</td>\n",
       "      <td>Dilsha Distributors</td>\n",
       "      <td>KF006089</td>\n",
       "      <td>Gamlath Stores</td>\n",
       "      <td>Kadawatha Road 1</td>\n",
       "      <td>0.0</td>\n",
       "      <td>0.0</td>\n",
       "      <td>1</td>\n",
       "    </tr>\n",
       "    <tr>\n",
       "      <th>1943</th>\n",
       "      <td>2024-09-25</td>\n",
       "      <td>61822</td>\n",
       "      <td>Dilsha Distributors</td>\n",
       "      <td>KF041991</td>\n",
       "      <td>Pasindu Stores</td>\n",
       "      <td>IBULGODA</td>\n",
       "      <td>0.0</td>\n",
       "      <td>0.0</td>\n",
       "      <td>1</td>\n",
       "    </tr>\n",
       "    <tr>\n",
       "      <th>...</th>\n",
       "      <td>...</td>\n",
       "      <td>...</td>\n",
       "      <td>...</td>\n",
       "      <td>...</td>\n",
       "      <td>...</td>\n",
       "      <td>...</td>\n",
       "      <td>...</td>\n",
       "      <td>...</td>\n",
       "      <td>...</td>\n",
       "    </tr>\n",
       "    <tr>\n",
       "      <th>62212</th>\n",
       "      <td>2024-09-18</td>\n",
       "      <td>19623</td>\n",
       "      <td>Swiss Cool Bar</td>\n",
       "      <td>IC161324</td>\n",
       "      <td>Rani Stores</td>\n",
       "      <td>Nanattan Up to Sillawathura</td>\n",
       "      <td>0.0</td>\n",
       "      <td>0.0</td>\n",
       "      <td>1</td>\n",
       "    </tr>\n",
       "    <tr>\n",
       "      <th>62213</th>\n",
       "      <td>2024-09-11</td>\n",
       "      <td>19623</td>\n",
       "      <td>Swiss Cool Bar</td>\n",
       "      <td>IC161326</td>\n",
       "      <td>Prasath Book Shop</td>\n",
       "      <td>Nanattan Up to Sillawathura</td>\n",
       "      <td>0.0</td>\n",
       "      <td>0.0</td>\n",
       "      <td>1</td>\n",
       "    </tr>\n",
       "    <tr>\n",
       "      <th>62290</th>\n",
       "      <td>2024-09-11</td>\n",
       "      <td>65678</td>\n",
       "      <td>Ramesh Distributors</td>\n",
       "      <td>SD355606</td>\n",
       "      <td>J.M.P HOTEL</td>\n",
       "      <td>DSR 3 - 65678 - Route 12</td>\n",
       "      <td>0.0</td>\n",
       "      <td>0.0</td>\n",
       "      <td>1</td>\n",
       "    </tr>\n",
       "    <tr>\n",
       "      <th>62330</th>\n",
       "      <td>2024-09-25</td>\n",
       "      <td>71475</td>\n",
       "      <td>Buddhi Mart</td>\n",
       "      <td>SB41074</td>\n",
       "      <td>everes pastry &amp; groceries</td>\n",
       "      <td>GODALLA</td>\n",
       "      <td>0.0</td>\n",
       "      <td>0.0</td>\n",
       "      <td>1</td>\n",
       "    </tr>\n",
       "    <tr>\n",
       "      <th>63164</th>\n",
       "      <td>2024-09-25</td>\n",
       "      <td>69802</td>\n",
       "      <td>Darshana Constructions</td>\n",
       "      <td>IC161486</td>\n",
       "      <td>Naduni stores</td>\n",
       "      <td>Weerawila,Ikkapallam Upto Kirinda.</td>\n",
       "      <td>0.0</td>\n",
       "      <td>0.0</td>\n",
       "      <td>1</td>\n",
       "    </tr>\n",
       "  </tbody>\n",
       "</table>\n",
       "<p>1965 rows × 9 columns</p>\n",
       "</div>"
      ],
      "text/plain": [
       "             Date  DistributorCode  ... Latitude IsGPSOn\n",
       "1516   2024-09-20            71221  ...      0.0       1\n",
       "1940   2024-09-24            61822  ...      0.0       1\n",
       "1941   2024-09-25            61822  ...      0.0       1\n",
       "1942   2024-09-25            61822  ...      0.0       1\n",
       "1943   2024-09-25            61822  ...      0.0       1\n",
       "...           ...              ...  ...      ...     ...\n",
       "62212  2024-09-18            19623  ...      0.0       1\n",
       "62213  2024-09-11            19623  ...      0.0       1\n",
       "62290  2024-09-11            65678  ...      0.0       1\n",
       "62330  2024-09-25            71475  ...      0.0       1\n",
       "63164  2024-09-25            69802  ...      0.0       1\n",
       "\n",
       "[1965 rows x 9 columns]"
      ]
     },
     "execution_count": 7,
     "metadata": {},
     "output_type": "execute_result"
    }
   ],
   "source": [
    "df[(df['Longitude'] == 0.0) & (df['Latitude'] == 0.0)]"
   ]
  },
  {
   "cell_type": "code",
   "execution_count": 14,
   "metadata": {},
   "outputs": [
    {
     "data": {
      "text/html": [
       "<div>\n",
       "<style scoped>\n",
       "    .dataframe tbody tr th:only-of-type {\n",
       "        vertical-align: middle;\n",
       "    }\n",
       "\n",
       "    .dataframe tbody tr th {\n",
       "        vertical-align: top;\n",
       "    }\n",
       "\n",
       "    .dataframe thead th {\n",
       "        text-align: right;\n",
       "    }\n",
       "</style>\n",
       "<table border=\"1\" class=\"dataframe\">\n",
       "  <thead>\n",
       "    <tr style=\"text-align: right;\">\n",
       "      <th></th>\n",
       "      <th>Date</th>\n",
       "      <th>DistributorCode</th>\n",
       "      <th>DistributorName</th>\n",
       "      <th>OutletCode</th>\n",
       "      <th>OutletName</th>\n",
       "      <th>routename</th>\n",
       "      <th>Longitude</th>\n",
       "      <th>Latitude</th>\n",
       "      <th>IsGPSOn</th>\n",
       "    </tr>\n",
       "  </thead>\n",
       "  <tbody>\n",
       "  </tbody>\n",
       "</table>\n",
       "</div>"
      ],
      "text/plain": [
       "Empty DataFrame\n",
       "Columns: [Date, DistributorCode, DistributorName, OutletCode, OutletName, routename, Longitude, Latitude, IsGPSOn]\n",
       "Index: []"
      ]
     },
     "execution_count": 14,
     "metadata": {},
     "output_type": "execute_result"
    }
   ],
   "source": [
    "df[df.isna().any(axis=1)]"
   ]
  },
  {
   "cell_type": "code",
   "execution_count": 15,
   "metadata": {},
   "outputs": [],
   "source": [
    "df = df[~((df['Longitude'] == 0.0) & (df['Latitude'] == 0.0))]"
   ]
  },
  {
   "cell_type": "code",
   "execution_count": 16,
   "metadata": {},
   "outputs": [
    {
     "data": {
      "text/html": [
       "<div>\n",
       "<style scoped>\n",
       "    .dataframe tbody tr th:only-of-type {\n",
       "        vertical-align: middle;\n",
       "    }\n",
       "\n",
       "    .dataframe tbody tr th {\n",
       "        vertical-align: top;\n",
       "    }\n",
       "\n",
       "    .dataframe thead th {\n",
       "        text-align: right;\n",
       "    }\n",
       "</style>\n",
       "<table border=\"1\" class=\"dataframe\">\n",
       "  <thead>\n",
       "    <tr style=\"text-align: right;\">\n",
       "      <th></th>\n",
       "      <th>Date</th>\n",
       "      <th>DistributorCode</th>\n",
       "      <th>DistributorName</th>\n",
       "      <th>OutletCode</th>\n",
       "      <th>OutletName</th>\n",
       "      <th>routename</th>\n",
       "      <th>Longitude</th>\n",
       "      <th>Latitude</th>\n",
       "      <th>IsGPSOn</th>\n",
       "    </tr>\n",
       "  </thead>\n",
       "  <tbody>\n",
       "  </tbody>\n",
       "</table>\n",
       "</div>"
      ],
      "text/plain": [
       "Empty DataFrame\n",
       "Columns: [Date, DistributorCode, DistributorName, OutletCode, OutletName, routename, Longitude, Latitude, IsGPSOn]\n",
       "Index: []"
      ]
     },
     "execution_count": 16,
     "metadata": {},
     "output_type": "execute_result"
    }
   ],
   "source": [
    "df[(df['Longitude'] == 0.0) & (df['Latitude'] == 0.0)]"
   ]
  },
  {
   "cell_type": "code",
   "execution_count": 17,
   "metadata": {},
   "outputs": [
    {
     "data": {
      "text/plain": [
       "(60996, 9)"
      ]
     },
     "execution_count": 17,
     "metadata": {},
     "output_type": "execute_result"
    }
   ],
   "source": [
    "df.shape"
   ]
  },
  {
   "cell_type": "code",
   "execution_count": 25,
   "metadata": {},
   "outputs": [],
   "source": [
    "coordinates = df[['Longitude','Latitude']].values\n",
    "\n",
    "coords_in_radians = np.radians(coordinates)"
   ]
  },
  {
   "cell_type": "code",
   "execution_count": 27,
   "metadata": {},
   "outputs": [],
   "source": [
    "dbscan = DBSCAN(eps=0.5, min_samples=5, metric='haversine')\n",
    "df['cluster'] = dbscan.fit_predict(coords_in_radians)"
   ]
  },
  {
   "cell_type": "code",
   "execution_count": null,
   "metadata": {},
   "outputs": [],
   "source": [
    "plt.figure(figsize=(12, 8))\n",
    "unique_clusters = df['cluster'].unique()\n",
    "for cluster in unique_clusters:\n",
    "    if cluster == -1:  # Noise\n",
    "        color = 'k'\n",
    "        label = 'Noise'\n",
    "    else:\n",
    "        color = None\n",
    "        label = f'Cluster {cluster}'\n",
    "    clustered_data = gps_data[df['cluster']== cluster]\n",
    "    plt.plot(clustered_data['Longitude'], clustered_data['Latitude'], marker='o', markersize=2, linestyle='-', label=label, alpha=0.6)\n",
    "\n",
    "plt.xlabel('Longitude')\n",
    "plt.ylabel('Latitude')\n",
    "plt.title('Common Paths or Routes Taken')\n",
    "plt.grid(True)\n",
    "plt.show()"
   ]
  }
 ],
 "metadata": {
  "kernelspec": {
   "display_name": ".venv",
   "language": "python",
   "name": "python3"
  },
  "language_info": {
   "codemirror_mode": {
    "name": "ipython",
    "version": 3
   },
   "file_extension": ".py",
   "mimetype": "text/x-python",
   "name": "python",
   "nbconvert_exporter": "python",
   "pygments_lexer": "ipython3",
   "version": "3.11.5"
  }
 },
 "nbformat": 4,
 "nbformat_minor": 2
}
